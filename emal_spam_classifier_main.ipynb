{
 "cells": [
  {
   "cell_type": "markdown",
   "id": "a7d16434",
   "metadata": {},
   "source": [
    "# 01 - Deep Learning - Email Spam Classifier\n",
    "\n",
    "[Deep Learning Tutorials](https://www.youtube.com/playlist?list=PLeo1K3hjS3uu7CxAacxVndI4bE_o3BDtO)"
   ]
  },
  {
   "cell_type": "markdown",
   "id": "79bdf74d",
   "metadata": {},
   "source": [
    "## Project Methodology\n",
    "\n",
    "In this project, I build a spam email classifier that can tell whether a given email is a spam email or not based on the email’s content\n",
    "There four main parts:\n",
    "    \n",
    "- 1) Clean the data.\n",
    "- 2) Build feature vectors.\n",
    "- 3) Use Naive Bayes Classifier, SVM(linear kernel) and Logistic Regression to training the data and make predictions.\n",
    "- 4) Compare these models and discuss the results."
   ]
  },
  {
   "cell_type": "code",
   "execution_count": 1,
   "id": "58fb1e5c",
   "metadata": {},
   "outputs": [],
   "source": [
    "import pandas as pd\n",
    "import numpy as np\n",
    "import os\n",
    "import email\n",
    "import email.policy\n",
    "import random\n",
    "import matplotlib.pyplot as plt"
   ]
  },
  {
   "cell_type": "code",
   "execution_count": 5,
   "id": "01995cca",
   "metadata": {},
   "outputs": [],
   "source": [
    "#get spam and ham emails data\n",
    "\n",
    "#sourse is https://www.kaggle.com/veleon/ham-and-spam-dataset\n",
    "\n",
    "PATH = '/Users/yuliabezginova/PycharmProjects/05_ML_EmailSpamClassifier/email_spam_dataset/hamnspam/'\n",
    "\n",
    "ham_filenames = [name for name in os.listdir(PATH+'ham')]\n",
    "spam_filenames = [name for name in os.listdir(PATH+'spam')]\n",
    "\n",
    "random.shuffle(ham_filenames)  #shuffle first\n",
    "random.shuffle(spam_filenames)"
   ]
  },
  {
   "cell_type": "code",
   "execution_count": null,
   "id": "3644839d",
   "metadata": {},
   "outputs": [],
   "source": []
  },
  {
   "cell_type": "code",
   "execution_count": null,
   "id": "fdeee539",
   "metadata": {},
   "outputs": [],
   "source": []
  },
  {
   "cell_type": "code",
   "execution_count": null,
   "id": "aa06067f",
   "metadata": {},
   "outputs": [],
   "source": []
  },
  {
   "cell_type": "code",
   "execution_count": null,
   "id": "cebd8286",
   "metadata": {},
   "outputs": [],
   "source": []
  },
  {
   "cell_type": "code",
   "execution_count": null,
   "id": "3f6fd815",
   "metadata": {},
   "outputs": [],
   "source": []
  },
  {
   "cell_type": "code",
   "execution_count": null,
   "id": "70afe20f",
   "metadata": {},
   "outputs": [],
   "source": []
  },
  {
   "cell_type": "code",
   "execution_count": null,
   "id": "77af8478",
   "metadata": {},
   "outputs": [],
   "source": []
  },
  {
   "cell_type": "markdown",
   "id": "f2d4f34b",
   "metadata": {},
   "source": [
    "***Thank you for going through this project. Your comments are more then welcome to ybezginova2021@gmail.com***\n",
    "\n",
    "***Best wishes,***\n",
    "\n",
    "***Yulia***"
   ]
  }
 ],
 "metadata": {
  "kernelspec": {
   "display_name": "Python 3 (ipykernel)",
   "language": "python",
   "name": "python3"
  },
  "language_info": {
   "codemirror_mode": {
    "name": "ipython",
    "version": 3
   },
   "file_extension": ".py",
   "mimetype": "text/x-python",
   "name": "python",
   "nbconvert_exporter": "python",
   "pygments_lexer": "ipython3",
   "version": "3.10.8"
  }
 },
 "nbformat": 4,
 "nbformat_minor": 5
}
